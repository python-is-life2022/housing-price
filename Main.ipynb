{
 "cells": [
  {
   "cell_type": "code",
   "execution_count": 1,
   "id": "6cefb380-e615-4e56-b886-4748926cc03b",
   "metadata": {},
   "outputs": [],
   "source": [
    "import numpy as np\n",
    "import pandas as pd\n",
    "import matplotlib.pyplot as plt\n",
    "from pandas.plotting import scatter_matrix\n",
    "from sklearn.model_selection import train_test_split"
   ]
  },
  {
   "cell_type": "code",
   "execution_count": null,
   "id": "3d80befc-7c06-4083-9a31-27f5f21b5087",
   "metadata": {},
   "outputs": [
    {
     "data": {
      "text/html": [
       "<div>\n",
       "<style scoped>\n",
       "    .dataframe tbody tr th:only-of-type {\n",
       "        vertical-align: middle;\n",
       "    }\n",
       "\n",
       "    .dataframe tbody tr th {\n",
       "        vertical-align: top;\n",
       "    }\n",
       "\n",
       "    .dataframe thead th {\n",
       "        text-align: right;\n",
       "    }\n",
       "</style>\n",
       "<table border=\"1\" class=\"dataframe\">\n",
       "  <thead>\n",
       "    <tr style=\"text-align: right;\">\n",
       "      <th></th>\n",
       "      <th>Area</th>\n",
       "      <th>Room</th>\n",
       "      <th>Parking</th>\n",
       "      <th>Warehouse</th>\n",
       "      <th>Elevator</th>\n",
       "      <th>Address</th>\n",
       "      <th>Price</th>\n",
       "      <th>Price(USD)</th>\n",
       "    </tr>\n",
       "  </thead>\n",
       "  <tbody>\n",
       "    <tr>\n",
       "      <th>0</th>\n",
       "      <td>63</td>\n",
       "      <td>1</td>\n",
       "      <td>True</td>\n",
       "      <td>True</td>\n",
       "      <td>True</td>\n",
       "      <td>Shahran</td>\n",
       "      <td>1.850000e+09</td>\n",
       "      <td>61666.67</td>\n",
       "    </tr>\n",
       "    <tr>\n",
       "      <th>1</th>\n",
       "      <td>60</td>\n",
       "      <td>1</td>\n",
       "      <td>True</td>\n",
       "      <td>True</td>\n",
       "      <td>True</td>\n",
       "      <td>Shahran</td>\n",
       "      <td>1.850000e+09</td>\n",
       "      <td>61666.67</td>\n",
       "    </tr>\n",
       "    <tr>\n",
       "      <th>2</th>\n",
       "      <td>79</td>\n",
       "      <td>2</td>\n",
       "      <td>True</td>\n",
       "      <td>True</td>\n",
       "      <td>True</td>\n",
       "      <td>Pardis</td>\n",
       "      <td>5.500000e+08</td>\n",
       "      <td>18333.33</td>\n",
       "    </tr>\n",
       "    <tr>\n",
       "      <th>3</th>\n",
       "      <td>95</td>\n",
       "      <td>2</td>\n",
       "      <td>True</td>\n",
       "      <td>True</td>\n",
       "      <td>True</td>\n",
       "      <td>Shahrake Qods</td>\n",
       "      <td>9.025000e+08</td>\n",
       "      <td>30083.33</td>\n",
       "    </tr>\n",
       "    <tr>\n",
       "      <th>4</th>\n",
       "      <td>123</td>\n",
       "      <td>2</td>\n",
       "      <td>True</td>\n",
       "      <td>True</td>\n",
       "      <td>True</td>\n",
       "      <td>Shahrake Gharb</td>\n",
       "      <td>7.000000e+09</td>\n",
       "      <td>233333.33</td>\n",
       "    </tr>\n",
       "  </tbody>\n",
       "</table>\n",
       "</div>"
      ],
      "text/plain": [
       "  Area  Room  Parking  ...         Address         Price Price(USD)\n",
       "0   63     1     True  ...         Shahran  1.850000e+09   61666.67\n",
       "1   60     1     True  ...         Shahran  1.850000e+09   61666.67\n",
       "2   79     2     True  ...          Pardis  5.500000e+08   18333.33\n",
       "3   95     2     True  ...   Shahrake Qods  9.025000e+08   30083.33\n",
       "4  123     2     True  ...  Shahrake Gharb  7.000000e+09  233333.33\n",
       "\n",
       "[5 rows x 8 columns]"
      ]
     },
     "execution_count": 5,
     "metadata": {},
     "output_type": "execute_result"
    }
   ],
   "source": [
    "housing_dataset = pd.read_csv('housing.csv')\n",
    "housing_dataset.head()"
   ]
  },
  {
   "cell_type": "code",
   "execution_count": 29,
   "id": "a148ec84-1fe4-445e-9844-65ccba55c462",
   "metadata": {},
   "outputs": [
    {
     "data": {
      "text/plain": [
       "array(['63', '60', '79', '95', '123', '70', '87', '59', '54', '71', '68',\n",
       "       '64', '136', '155', '140', '42', '93', '65', '99', '105', '160',\n",
       "       '77', '110', '100', '90', '49', '96', '67', '62', '55', '129',\n",
       "       '109', '58', '150', '130', '88', '51', '113', '98', '75', '61',\n",
       "       '72', '122', '215', '101', '53', '74', '114', '151', '300', '76',\n",
       "       '148', '40', '128', '94', '97', '137', '85', '78', '48', '82',\n",
       "       '120', '139', '66', '80', '44', '50', '121', '141', '127', '180',\n",
       "       '158', '144', '245', '190', '108', '117', '200', '125', '236',\n",
       "       '220', '86', '84', '106', '320', '154', '210', '124', '83', '270',\n",
       "       '104', '103', '165', '135', '132', '81', '153', '166', '175',\n",
       "       '170', '115', '118', '116', '43', '230', '91', '126', '450', '500',\n",
       "       '145', '112', '192', '164', '265', '92', '143', '350', '335',\n",
       "       '235', '225', '221', '312', '188', '198', '650', '179', '256',\n",
       "       '257', '167', '246', '168', '280', '69', '400', '660', '213', '57',\n",
       "       '102', '133', '73', '134', '191', '282', '89', '111', '147', '157',\n",
       "       '283', ' 3,310,000,000 ', '863', '415', '173', '162', '156', '171',\n",
       "       '261', '45', '161', ' 16,160,000,000 ', '46', '107', '420', '131',\n",
       "       '185', '250', '216', ' 1,000 ', '680', '750', '202', '138', '38',\n",
       "       '56', '197', '52', '365', '181', '146', '240', '142', '303', '203',\n",
       "       '204', '255', '194', '600', '377', '231', '195', '176', '290',\n",
       "       '149', '238', '226', '574', '360', '37', '465', '403', '405', '41',\n",
       "       '228', '177', '310', '193', ' 8,400,000,000 ', '287', '929', '550',\n",
       "       '47', '380', '182', '119', '705', '222', '152', '209', '232',\n",
       "       '900', '201', '174', ' 3,600 ', '39', '172', '35', '32', '211',\n",
       "       '258', '700', '163', '208', '253', '33', ' 2,550,000,000 ', '330',\n",
       "       '212', '345', '530', '630', '30', '205', '285', '186'],\n",
       "      dtype=object)"
      ]
     },
     "execution_count": 29,
     "metadata": {},
     "output_type": "execute_result"
    }
   ],
   "source": [
    "housing_dataset['Area'].unique()"
   ]
  },
  {
   "cell_type": "code",
   "execution_count": 9,
   "id": "5c2428bd-58d1-4638-9b9e-5c1134c93b80",
   "metadata": {},
   "outputs": [
    {
     "name": "stdout",
     "output_type": "stream",
     "text": [
      "<class 'pandas.core.frame.DataFrame'>\n",
      "RangeIndex: 3479 entries, 0 to 3478\n",
      "Data columns (total 8 columns):\n",
      " #   Column      Non-Null Count  Dtype  \n",
      "---  ------      --------------  -----  \n",
      " 0   Area        3479 non-null   object \n",
      " 1   Room        3479 non-null   int64  \n",
      " 2   Parking     3479 non-null   bool   \n",
      " 3   Warehouse   3479 non-null   bool   \n",
      " 4   Elevator    3479 non-null   bool   \n",
      " 5   Address     3456 non-null   object \n",
      " 6   Price       3479 non-null   float64\n",
      " 7   Price(USD)  3479 non-null   float64\n",
      "dtypes: bool(3), float64(2), int64(1), object(2)\n",
      "memory usage: 146.2+ KB\n"
     ]
    }
   ],
   "source": [
    "housing_dataset.info()"
   ]
  },
  {
   "cell_type": "code",
   "execution_count": 15,
   "id": "691e2b8a-cad1-4bcc-9209-1021bdc02aa1",
   "metadata": {},
   "outputs": [
    {
     "data": {
      "text/plain": [
       "Address\n",
       "Punak                     4.658565\n",
       "Pardis                    4.224537\n",
       "West Ferdows Boulevard    4.195602\n",
       "Gheitarieh                4.079861\n",
       "Shahran                   3.761574\n",
       "                            ...   \n",
       "Chardangeh                0.028935\n",
       "Mehrabad                  0.028935\n",
       "Pakdasht KhatunAbad       0.028935\n",
       "Kazemabad                 0.028935\n",
       "Yakhchiabad               0.028935\n",
       "Name: proportion, Length: 192, dtype: float64"
      ]
     },
     "execution_count": 15,
     "metadata": {},
     "output_type": "execute_result"
    }
   ],
   "source": [
    "housing_dataset['Address'].value_counts(normalize= True) * 100"
   ]
  },
  {
   "cell_type": "code",
   "execution_count": 35,
   "id": "7a4f1e6e-3809-43b8-8408-412564d9f39d",
   "metadata": {},
   "outputs": [],
   "source": [
    "housing_dataset.replace({'Area': r'\\s\\d+,.*'}, {'Area': np.nan}, regex= True, inplace= True)"
   ]
  },
  {
   "cell_type": "code",
   "execution_count": 37,
   "id": "08a63ff4-a7fa-44e9-93fb-6ff46832f98a",
   "metadata": {},
   "outputs": [
    {
     "name": "stdout",
     "output_type": "stream",
     "text": [
      "<class 'pandas.core.frame.DataFrame'>\n",
      "RangeIndex: 3479 entries, 0 to 3478\n",
      "Data columns (total 8 columns):\n",
      " #   Column      Non-Null Count  Dtype  \n",
      "---  ------      --------------  -----  \n",
      " 0   Area        3473 non-null   object \n",
      " 1   Room        3479 non-null   int64  \n",
      " 2   Parking     3479 non-null   bool   \n",
      " 3   Warehouse   3479 non-null   bool   \n",
      " 4   Elevator    3479 non-null   bool   \n",
      " 5   Address     3456 non-null   object \n",
      " 6   Price       3479 non-null   float64\n",
      " 7   Price(USD)  3479 non-null   float64\n",
      "dtypes: bool(3), float64(2), int64(1), object(2)\n",
      "memory usage: 146.2+ KB\n"
     ]
    }
   ],
   "source": [
    "housing_dataset.info()"
   ]
  },
  {
   "cell_type": "code",
   "execution_count": 48,
   "id": "eb25f218-27da-4bfb-ba8a-f096ff64b209",
   "metadata": {},
   "outputs": [],
   "source": [
    "housing_dataset.dropna(subset= ['Area'], inplace= True, ignore_index= True)"
   ]
  },
  {
   "cell_type": "code",
   "execution_count": 50,
   "id": "62891b41-378d-4c48-8dff-3c2075676fb2",
   "metadata": {},
   "outputs": [
    {
     "name": "stdout",
     "output_type": "stream",
     "text": [
      "<class 'pandas.core.frame.DataFrame'>\n",
      "RangeIndex: 3473 entries, 0 to 3472\n",
      "Data columns (total 8 columns):\n",
      " #   Column      Non-Null Count  Dtype  \n",
      "---  ------      --------------  -----  \n",
      " 0   Area        3473 non-null   object \n",
      " 1   Room        3473 non-null   int64  \n",
      " 2   Parking     3473 non-null   bool   \n",
      " 3   Warehouse   3473 non-null   bool   \n",
      " 4   Elevator    3473 non-null   bool   \n",
      " 5   Address     3450 non-null   object \n",
      " 6   Price       3473 non-null   float64\n",
      " 7   Price(USD)  3473 non-null   float64\n",
      "dtypes: bool(3), float64(2), int64(1), object(2)\n",
      "memory usage: 146.0+ KB\n"
     ]
    }
   ],
   "source": [
    "housing_dataset.info()"
   ]
  },
  {
   "cell_type": "code",
   "execution_count": 56,
   "id": "84a1d875-b52c-4672-b6a8-ccfcf8c81de0",
   "metadata": {},
   "outputs": [],
   "source": [
    "housing_dataset['Area'] = housing_dataset['Area'].astype('int16')"
   ]
  },
  {
   "cell_type": "code",
   "execution_count": 58,
   "id": "4da61c24-d435-40f4-a65e-81749e7cf56e",
   "metadata": {},
   "outputs": [
    {
     "name": "stdout",
     "output_type": "stream",
     "text": [
      "<class 'pandas.core.frame.DataFrame'>\n",
      "RangeIndex: 3473 entries, 0 to 3472\n",
      "Data columns (total 8 columns):\n",
      " #   Column      Non-Null Count  Dtype  \n",
      "---  ------      --------------  -----  \n",
      " 0   Area        3473 non-null   int16  \n",
      " 1   Room        3473 non-null   int64  \n",
      " 2   Parking     3473 non-null   bool   \n",
      " 3   Warehouse   3473 non-null   bool   \n",
      " 4   Elevator    3473 non-null   bool   \n",
      " 5   Address     3450 non-null   object \n",
      " 6   Price       3473 non-null   float64\n",
      " 7   Price(USD)  3473 non-null   float64\n",
      "dtypes: bool(3), float64(2), int16(1), int64(1), object(1)\n",
      "memory usage: 125.6+ KB\n"
     ]
    }
   ],
   "source": [
    "housing_dataset.info()"
   ]
  },
  {
   "cell_type": "code",
   "execution_count": 62,
   "id": "cd083d2a-dfd2-4e56-a8fe-46a82b4a9fa3",
   "metadata": {},
   "outputs": [
    {
     "data": {
      "text/html": [
       "<div>\n",
       "<style scoped>\n",
       "    .dataframe tbody tr th:only-of-type {\n",
       "        vertical-align: middle;\n",
       "    }\n",
       "\n",
       "    .dataframe tbody tr th {\n",
       "        vertical-align: top;\n",
       "    }\n",
       "\n",
       "    .dataframe thead th {\n",
       "        text-align: right;\n",
       "    }\n",
       "</style>\n",
       "<table border=\"1\" class=\"dataframe\">\n",
       "  <thead>\n",
       "    <tr style=\"text-align: right;\">\n",
       "      <th></th>\n",
       "      <th>Area</th>\n",
       "      <th>Room</th>\n",
       "      <th>Parking</th>\n",
       "      <th>Warehouse</th>\n",
       "      <th>Elevator</th>\n",
       "      <th>Address</th>\n",
       "      <th>Price</th>\n",
       "      <th>Price(USD)</th>\n",
       "    </tr>\n",
       "  </thead>\n",
       "  <tbody>\n",
       "    <tr>\n",
       "      <th>0</th>\n",
       "      <td>63</td>\n",
       "      <td>1</td>\n",
       "      <td>True</td>\n",
       "      <td>True</td>\n",
       "      <td>True</td>\n",
       "      <td>Shahran</td>\n",
       "      <td>1.850000e+09</td>\n",
       "      <td>61666.67</td>\n",
       "    </tr>\n",
       "    <tr>\n",
       "      <th>1</th>\n",
       "      <td>60</td>\n",
       "      <td>1</td>\n",
       "      <td>True</td>\n",
       "      <td>True</td>\n",
       "      <td>True</td>\n",
       "      <td>Shahran</td>\n",
       "      <td>1.850000e+09</td>\n",
       "      <td>61666.67</td>\n",
       "    </tr>\n",
       "    <tr>\n",
       "      <th>2</th>\n",
       "      <td>79</td>\n",
       "      <td>2</td>\n",
       "      <td>True</td>\n",
       "      <td>True</td>\n",
       "      <td>True</td>\n",
       "      <td>Pardis</td>\n",
       "      <td>5.500000e+08</td>\n",
       "      <td>18333.33</td>\n",
       "    </tr>\n",
       "    <tr>\n",
       "      <th>3</th>\n",
       "      <td>95</td>\n",
       "      <td>2</td>\n",
       "      <td>True</td>\n",
       "      <td>True</td>\n",
       "      <td>True</td>\n",
       "      <td>Shahrake Qods</td>\n",
       "      <td>9.025000e+08</td>\n",
       "      <td>30083.33</td>\n",
       "    </tr>\n",
       "    <tr>\n",
       "      <th>4</th>\n",
       "      <td>123</td>\n",
       "      <td>2</td>\n",
       "      <td>True</td>\n",
       "      <td>True</td>\n",
       "      <td>True</td>\n",
       "      <td>Shahrake Gharb</td>\n",
       "      <td>7.000000e+09</td>\n",
       "      <td>233333.33</td>\n",
       "    </tr>\n",
       "    <tr>\n",
       "      <th>5</th>\n",
       "      <td>70</td>\n",
       "      <td>2</td>\n",
       "      <td>True</td>\n",
       "      <td>True</td>\n",
       "      <td>False</td>\n",
       "      <td>North Program Organization</td>\n",
       "      <td>2.050000e+09</td>\n",
       "      <td>68333.33</td>\n",
       "    </tr>\n",
       "    <tr>\n",
       "      <th>6</th>\n",
       "      <td>87</td>\n",
       "      <td>2</td>\n",
       "      <td>True</td>\n",
       "      <td>True</td>\n",
       "      <td>True</td>\n",
       "      <td>Pardis</td>\n",
       "      <td>6.000000e+08</td>\n",
       "      <td>20000.00</td>\n",
       "    </tr>\n",
       "    <tr>\n",
       "      <th>7</th>\n",
       "      <td>59</td>\n",
       "      <td>1</td>\n",
       "      <td>True</td>\n",
       "      <td>True</td>\n",
       "      <td>True</td>\n",
       "      <td>Shahran</td>\n",
       "      <td>2.150000e+09</td>\n",
       "      <td>71666.67</td>\n",
       "    </tr>\n",
       "    <tr>\n",
       "      <th>8</th>\n",
       "      <td>54</td>\n",
       "      <td>2</td>\n",
       "      <td>True</td>\n",
       "      <td>True</td>\n",
       "      <td>False</td>\n",
       "      <td>Andisheh</td>\n",
       "      <td>4.930000e+08</td>\n",
       "      <td>16433.33</td>\n",
       "    </tr>\n",
       "    <tr>\n",
       "      <th>9</th>\n",
       "      <td>71</td>\n",
       "      <td>1</td>\n",
       "      <td>True</td>\n",
       "      <td>True</td>\n",
       "      <td>True</td>\n",
       "      <td>West Ferdows Boulevard</td>\n",
       "      <td>2.370000e+09</td>\n",
       "      <td>79000.00</td>\n",
       "    </tr>\n",
       "  </tbody>\n",
       "</table>\n",
       "</div>"
      ],
      "text/plain": [
       "   Area  Room  Parking  ...                     Address         Price Price(USD)\n",
       "0    63     1     True  ...                     Shahran  1.850000e+09   61666.67\n",
       "1    60     1     True  ...                     Shahran  1.850000e+09   61666.67\n",
       "2    79     2     True  ...                      Pardis  5.500000e+08   18333.33\n",
       "3    95     2     True  ...               Shahrake Qods  9.025000e+08   30083.33\n",
       "4   123     2     True  ...              Shahrake Gharb  7.000000e+09  233333.33\n",
       "5    70     2     True  ...  North Program Organization  2.050000e+09   68333.33\n",
       "6    87     2     True  ...                      Pardis  6.000000e+08   20000.00\n",
       "7    59     1     True  ...                     Shahran  2.150000e+09   71666.67\n",
       "8    54     2     True  ...                    Andisheh  4.930000e+08   16433.33\n",
       "9    71     1     True  ...      West Ferdows Boulevard  2.370000e+09   79000.00\n",
       "\n",
       "[10 rows x 8 columns]"
      ]
     },
     "execution_count": 62,
     "metadata": {},
     "output_type": "execute_result"
    }
   ],
   "source": [
    "housing_dataset.head(10)"
   ]
  },
  {
   "cell_type": "code",
   "execution_count": 66,
   "id": "4251a7d5-6798-48c0-91ec-b9e9e13c0045",
   "metadata": {},
   "outputs": [
    {
     "data": {
      "text/html": [
       "<div>\n",
       "<style scoped>\n",
       "    .dataframe tbody tr th:only-of-type {\n",
       "        vertical-align: middle;\n",
       "    }\n",
       "\n",
       "    .dataframe tbody tr th {\n",
       "        vertical-align: top;\n",
       "    }\n",
       "\n",
       "    .dataframe thead th {\n",
       "        text-align: right;\n",
       "    }\n",
       "</style>\n",
       "<table border=\"1\" class=\"dataframe\">\n",
       "  <thead>\n",
       "    <tr style=\"text-align: right;\">\n",
       "      <th></th>\n",
       "      <th>Parking_False</th>\n",
       "      <th>Parking_True</th>\n",
       "    </tr>\n",
       "  </thead>\n",
       "  <tbody>\n",
       "    <tr>\n",
       "      <th>0</th>\n",
       "      <td>0.0</td>\n",
       "      <td>1.0</td>\n",
       "    </tr>\n",
       "    <tr>\n",
       "      <th>1</th>\n",
       "      <td>0.0</td>\n",
       "      <td>1.0</td>\n",
       "    </tr>\n",
       "    <tr>\n",
       "      <th>2</th>\n",
       "      <td>0.0</td>\n",
       "      <td>1.0</td>\n",
       "    </tr>\n",
       "    <tr>\n",
       "      <th>3</th>\n",
       "      <td>0.0</td>\n",
       "      <td>1.0</td>\n",
       "    </tr>\n",
       "    <tr>\n",
       "      <th>4</th>\n",
       "      <td>0.0</td>\n",
       "      <td>1.0</td>\n",
       "    </tr>\n",
       "  </tbody>\n",
       "</table>\n",
       "</div>"
      ],
      "text/plain": [
       "   Parking_False  Parking_True\n",
       "0            0.0           1.0\n",
       "1            0.0           1.0\n",
       "2            0.0           1.0\n",
       "3            0.0           1.0\n",
       "4            0.0           1.0"
      ]
     },
     "execution_count": 66,
     "metadata": {},
     "output_type": "execute_result"
    }
   ],
   "source": [
    "from sklearn.preprocessing import OneHotEncoder\n",
    "one_hot = OneHotEncoder(sparse_output= False)\n",
    "parking_df = pd.DataFrame(one_hot.fit_transform(housing_dataset[['Parking']]), columns= one_hot.get_feature_names_out())\n",
    "parking_df.head()"
   ]
  },
  {
   "cell_type": "code",
   "execution_count": 70,
   "id": "c057c580-dfb6-4d64-8607-6d5ad02ca644",
   "metadata": {},
   "outputs": [
    {
     "data": {
      "text/html": [
       "<div>\n",
       "<style scoped>\n",
       "    .dataframe tbody tr th:only-of-type {\n",
       "        vertical-align: middle;\n",
       "    }\n",
       "\n",
       "    .dataframe tbody tr th {\n",
       "        vertical-align: top;\n",
       "    }\n",
       "\n",
       "    .dataframe thead th {\n",
       "        text-align: right;\n",
       "    }\n",
       "</style>\n",
       "<table border=\"1\" class=\"dataframe\">\n",
       "  <thead>\n",
       "    <tr style=\"text-align: right;\">\n",
       "      <th></th>\n",
       "      <th>Warehouse_False</th>\n",
       "      <th>Warehouse_True</th>\n",
       "    </tr>\n",
       "  </thead>\n",
       "  <tbody>\n",
       "    <tr>\n",
       "      <th>0</th>\n",
       "      <td>0.0</td>\n",
       "      <td>1.0</td>\n",
       "    </tr>\n",
       "    <tr>\n",
       "      <th>1</th>\n",
       "      <td>0.0</td>\n",
       "      <td>1.0</td>\n",
       "    </tr>\n",
       "    <tr>\n",
       "      <th>2</th>\n",
       "      <td>0.0</td>\n",
       "      <td>1.0</td>\n",
       "    </tr>\n",
       "    <tr>\n",
       "      <th>3</th>\n",
       "      <td>0.0</td>\n",
       "      <td>1.0</td>\n",
       "    </tr>\n",
       "    <tr>\n",
       "      <th>4</th>\n",
       "      <td>0.0</td>\n",
       "      <td>1.0</td>\n",
       "    </tr>\n",
       "  </tbody>\n",
       "</table>\n",
       "</div>"
      ],
      "text/plain": [
       "   Warehouse_False  Warehouse_True\n",
       "0              0.0             1.0\n",
       "1              0.0             1.0\n",
       "2              0.0             1.0\n",
       "3              0.0             1.0\n",
       "4              0.0             1.0"
      ]
     },
     "execution_count": 70,
     "metadata": {},
     "output_type": "execute_result"
    }
   ],
   "source": [
    "warehouse_df = pd.DataFrame(one_hot.fit_transform(housing_dataset[['Warehouse']]), columns= one_hot.get_feature_names_out())\n",
    "warehouse_df.head()"
   ]
  },
  {
   "cell_type": "code",
   "execution_count": 74,
   "id": "f47428ff-dd23-493c-b729-e7073a039cfc",
   "metadata": {},
   "outputs": [
    {
     "data": {
      "text/html": [
       "<div>\n",
       "<style scoped>\n",
       "    .dataframe tbody tr th:only-of-type {\n",
       "        vertical-align: middle;\n",
       "    }\n",
       "\n",
       "    .dataframe tbody tr th {\n",
       "        vertical-align: top;\n",
       "    }\n",
       "\n",
       "    .dataframe thead th {\n",
       "        text-align: right;\n",
       "    }\n",
       "</style>\n",
       "<table border=\"1\" class=\"dataframe\">\n",
       "  <thead>\n",
       "    <tr style=\"text-align: right;\">\n",
       "      <th></th>\n",
       "      <th>Elevator_False</th>\n",
       "      <th>Elevator_True</th>\n",
       "    </tr>\n",
       "  </thead>\n",
       "  <tbody>\n",
       "    <tr>\n",
       "      <th>0</th>\n",
       "      <td>0.0</td>\n",
       "      <td>1.0</td>\n",
       "    </tr>\n",
       "    <tr>\n",
       "      <th>1</th>\n",
       "      <td>0.0</td>\n",
       "      <td>1.0</td>\n",
       "    </tr>\n",
       "    <tr>\n",
       "      <th>2</th>\n",
       "      <td>0.0</td>\n",
       "      <td>1.0</td>\n",
       "    </tr>\n",
       "    <tr>\n",
       "      <th>3</th>\n",
       "      <td>0.0</td>\n",
       "      <td>1.0</td>\n",
       "    </tr>\n",
       "    <tr>\n",
       "      <th>4</th>\n",
       "      <td>0.0</td>\n",
       "      <td>1.0</td>\n",
       "    </tr>\n",
       "  </tbody>\n",
       "</table>\n",
       "</div>"
      ],
      "text/plain": [
       "   Elevator_False  Elevator_True\n",
       "0             0.0            1.0\n",
       "1             0.0            1.0\n",
       "2             0.0            1.0\n",
       "3             0.0            1.0\n",
       "4             0.0            1.0"
      ]
     },
     "execution_count": 74,
     "metadata": {},
     "output_type": "execute_result"
    }
   ],
   "source": [
    "elevator_df = pd.DataFrame(one_hot.fit_transform(housing_dataset[['Elevator']]), columns= one_hot.get_feature_names_out())\n",
    "elevator_df.head()"
   ]
  },
  {
   "cell_type": "code",
   "execution_count": 76,
   "id": "98aa3e0d-7849-4483-a491-44037750d405",
   "metadata": {},
   "outputs": [
    {
     "data": {
      "text/html": [
       "<div>\n",
       "<style scoped>\n",
       "    .dataframe tbody tr th:only-of-type {\n",
       "        vertical-align: middle;\n",
       "    }\n",
       "\n",
       "    .dataframe tbody tr th {\n",
       "        vertical-align: top;\n",
       "    }\n",
       "\n",
       "    .dataframe thead th {\n",
       "        text-align: right;\n",
       "    }\n",
       "</style>\n",
       "<table border=\"1\" class=\"dataframe\">\n",
       "  <thead>\n",
       "    <tr style=\"text-align: right;\">\n",
       "      <th></th>\n",
       "      <th>Area</th>\n",
       "      <th>Room</th>\n",
       "      <th>Address</th>\n",
       "      <th>Price</th>\n",
       "      <th>Price(USD)</th>\n",
       "      <th>Parking_False</th>\n",
       "      <th>Parking_True</th>\n",
       "      <th>Warehouse_False</th>\n",
       "      <th>Warehouse_True</th>\n",
       "      <th>Elevator_False</th>\n",
       "      <th>Elevator_True</th>\n",
       "    </tr>\n",
       "  </thead>\n",
       "  <tbody>\n",
       "    <tr>\n",
       "      <th>0</th>\n",
       "      <td>63</td>\n",
       "      <td>1</td>\n",
       "      <td>Shahran</td>\n",
       "      <td>1.850000e+09</td>\n",
       "      <td>61666.67</td>\n",
       "      <td>0.0</td>\n",
       "      <td>1.0</td>\n",
       "      <td>0.0</td>\n",
       "      <td>1.0</td>\n",
       "      <td>0.0</td>\n",
       "      <td>1.0</td>\n",
       "    </tr>\n",
       "    <tr>\n",
       "      <th>1</th>\n",
       "      <td>60</td>\n",
       "      <td>1</td>\n",
       "      <td>Shahran</td>\n",
       "      <td>1.850000e+09</td>\n",
       "      <td>61666.67</td>\n",
       "      <td>0.0</td>\n",
       "      <td>1.0</td>\n",
       "      <td>0.0</td>\n",
       "      <td>1.0</td>\n",
       "      <td>0.0</td>\n",
       "      <td>1.0</td>\n",
       "    </tr>\n",
       "    <tr>\n",
       "      <th>2</th>\n",
       "      <td>79</td>\n",
       "      <td>2</td>\n",
       "      <td>Pardis</td>\n",
       "      <td>5.500000e+08</td>\n",
       "      <td>18333.33</td>\n",
       "      <td>0.0</td>\n",
       "      <td>1.0</td>\n",
       "      <td>0.0</td>\n",
       "      <td>1.0</td>\n",
       "      <td>0.0</td>\n",
       "      <td>1.0</td>\n",
       "    </tr>\n",
       "    <tr>\n",
       "      <th>3</th>\n",
       "      <td>95</td>\n",
       "      <td>2</td>\n",
       "      <td>Shahrake Qods</td>\n",
       "      <td>9.025000e+08</td>\n",
       "      <td>30083.33</td>\n",
       "      <td>0.0</td>\n",
       "      <td>1.0</td>\n",
       "      <td>0.0</td>\n",
       "      <td>1.0</td>\n",
       "      <td>0.0</td>\n",
       "      <td>1.0</td>\n",
       "    </tr>\n",
       "    <tr>\n",
       "      <th>4</th>\n",
       "      <td>123</td>\n",
       "      <td>2</td>\n",
       "      <td>Shahrake Gharb</td>\n",
       "      <td>7.000000e+09</td>\n",
       "      <td>233333.33</td>\n",
       "      <td>0.0</td>\n",
       "      <td>1.0</td>\n",
       "      <td>0.0</td>\n",
       "      <td>1.0</td>\n",
       "      <td>0.0</td>\n",
       "      <td>1.0</td>\n",
       "    </tr>\n",
       "  </tbody>\n",
       "</table>\n",
       "</div>"
      ],
      "text/plain": [
       "   Area  Room         Address  ...  Warehouse_True  Elevator_False  Elevator_True\n",
       "0    63     1         Shahran  ...             1.0             0.0            1.0\n",
       "1    60     1         Shahran  ...             1.0             0.0            1.0\n",
       "2    79     2          Pardis  ...             1.0             0.0            1.0\n",
       "3    95     2   Shahrake Qods  ...             1.0             0.0            1.0\n",
       "4   123     2  Shahrake Gharb  ...             1.0             0.0            1.0\n",
       "\n",
       "[5 rows x 11 columns]"
      ]
     },
     "execution_count": 76,
     "metadata": {},
     "output_type": "execute_result"
    }
   ],
   "source": [
    "new_housing_ds = pd.concat((housing_dataset.iloc[:,0:2], housing_dataset.iloc[:,5:8], parking_df, warehouse_df, elevator_df), axis= 1)\n",
    "new_housing_ds.head()"
   ]
  },
  {
   "cell_type": "code",
   "execution_count": 78,
   "id": "50fb5a78-f267-4915-b39e-5aa7c6a2ee7a",
   "metadata": {},
   "outputs": [
    {
     "name": "stdout",
     "output_type": "stream",
     "text": [
      "<class 'pandas.core.frame.DataFrame'>\n",
      "RangeIndex: 3473 entries, 0 to 3472\n",
      "Data columns (total 11 columns):\n",
      " #   Column           Non-Null Count  Dtype  \n",
      "---  ------           --------------  -----  \n",
      " 0   Area             3473 non-null   int16  \n",
      " 1   Room             3473 non-null   int64  \n",
      " 2   Address          3450 non-null   object \n",
      " 3   Price            3473 non-null   float64\n",
      " 4   Price(USD)       3473 non-null   float64\n",
      " 5   Parking_False    3473 non-null   float64\n",
      " 6   Parking_True     3473 non-null   float64\n",
      " 7   Warehouse_False  3473 non-null   float64\n",
      " 8   Warehouse_True   3473 non-null   float64\n",
      " 9   Elevator_False   3473 non-null   float64\n",
      " 10  Elevator_True    3473 non-null   float64\n",
      "dtypes: float64(8), int16(1), int64(1), object(1)\n",
      "memory usage: 278.2+ KB\n"
     ]
    }
   ],
   "source": [
    "new_housing_ds.info()"
   ]
  },
  {
   "cell_type": "code",
   "execution_count": 82,
   "id": "f0d97b2f-35d0-4358-84ca-a45c063344d2",
   "metadata": {},
   "outputs": [],
   "source": [
    "new_housing_ds.fillna({'Address': new_housing_ds['Address'].mode()[0]}, inplace= True)"
   ]
  },
  {
   "cell_type": "code",
   "execution_count": 84,
   "id": "aa8afb71-eb5b-49bc-b5f7-9124b9fe37f9",
   "metadata": {},
   "outputs": [
    {
     "name": "stdout",
     "output_type": "stream",
     "text": [
      "<class 'pandas.core.frame.DataFrame'>\n",
      "RangeIndex: 3473 entries, 0 to 3472\n",
      "Data columns (total 11 columns):\n",
      " #   Column           Non-Null Count  Dtype  \n",
      "---  ------           --------------  -----  \n",
      " 0   Area             3473 non-null   int16  \n",
      " 1   Room             3473 non-null   int64  \n",
      " 2   Address          3473 non-null   object \n",
      " 3   Price            3473 non-null   float64\n",
      " 4   Price(USD)       3473 non-null   float64\n",
      " 5   Parking_False    3473 non-null   float64\n",
      " 6   Parking_True     3473 non-null   float64\n",
      " 7   Warehouse_False  3473 non-null   float64\n",
      " 8   Warehouse_True   3473 non-null   float64\n",
      " 9   Elevator_False   3473 non-null   float64\n",
      " 10  Elevator_True    3473 non-null   float64\n",
      "dtypes: float64(8), int16(1), int64(1), object(1)\n",
      "memory usage: 278.2+ KB\n"
     ]
    }
   ],
   "source": [
    "new_housing_ds.info()"
   ]
  },
  {
   "cell_type": "code",
   "execution_count": 86,
   "id": "d2d3646b-80dd-4116-b848-e73d8b82cfaa",
   "metadata": {},
   "outputs": [],
   "source": [
    "new_housing_ds_copy= new_housing_ds.copy()"
   ]
  },
  {
   "cell_type": "code",
   "execution_count": 98,
   "id": "e4b362f5-9373-49ea-ab43-7087888822c5",
   "metadata": {},
   "outputs": [
    {
     "data": {
      "text/html": [
       "<div>\n",
       "<style scoped>\n",
       "    .dataframe tbody tr th:only-of-type {\n",
       "        vertical-align: middle;\n",
       "    }\n",
       "\n",
       "    .dataframe tbody tr th {\n",
       "        vertical-align: top;\n",
       "    }\n",
       "\n",
       "    .dataframe thead th {\n",
       "        text-align: right;\n",
       "    }\n",
       "</style>\n",
       "<table border=\"1\" class=\"dataframe\">\n",
       "  <thead>\n",
       "    <tr style=\"text-align: right;\">\n",
       "      <th></th>\n",
       "      <th>Area</th>\n",
       "      <th>Room</th>\n",
       "      <th>Price</th>\n",
       "      <th>Price(USD)</th>\n",
       "      <th>Parking_False</th>\n",
       "      <th>Parking_True</th>\n",
       "      <th>Warehouse_False</th>\n",
       "      <th>Warehouse_True</th>\n",
       "      <th>Elevator_False</th>\n",
       "      <th>Elevator_True</th>\n",
       "    </tr>\n",
       "  </thead>\n",
       "  <tbody>\n",
       "    <tr>\n",
       "      <th>0</th>\n",
       "      <td>63</td>\n",
       "      <td>1</td>\n",
       "      <td>1.850000e+09</td>\n",
       "      <td>61666.67</td>\n",
       "      <td>0.0</td>\n",
       "      <td>1.0</td>\n",
       "      <td>0.0</td>\n",
       "      <td>1.0</td>\n",
       "      <td>0.0</td>\n",
       "      <td>1.0</td>\n",
       "    </tr>\n",
       "    <tr>\n",
       "      <th>1</th>\n",
       "      <td>60</td>\n",
       "      <td>1</td>\n",
       "      <td>1.850000e+09</td>\n",
       "      <td>61666.67</td>\n",
       "      <td>0.0</td>\n",
       "      <td>1.0</td>\n",
       "      <td>0.0</td>\n",
       "      <td>1.0</td>\n",
       "      <td>0.0</td>\n",
       "      <td>1.0</td>\n",
       "    </tr>\n",
       "    <tr>\n",
       "      <th>2</th>\n",
       "      <td>79</td>\n",
       "      <td>2</td>\n",
       "      <td>5.500000e+08</td>\n",
       "      <td>18333.33</td>\n",
       "      <td>0.0</td>\n",
       "      <td>1.0</td>\n",
       "      <td>0.0</td>\n",
       "      <td>1.0</td>\n",
       "      <td>0.0</td>\n",
       "      <td>1.0</td>\n",
       "    </tr>\n",
       "    <tr>\n",
       "      <th>3</th>\n",
       "      <td>95</td>\n",
       "      <td>2</td>\n",
       "      <td>9.025000e+08</td>\n",
       "      <td>30083.33</td>\n",
       "      <td>0.0</td>\n",
       "      <td>1.0</td>\n",
       "      <td>0.0</td>\n",
       "      <td>1.0</td>\n",
       "      <td>0.0</td>\n",
       "      <td>1.0</td>\n",
       "    </tr>\n",
       "    <tr>\n",
       "      <th>4</th>\n",
       "      <td>123</td>\n",
       "      <td>2</td>\n",
       "      <td>7.000000e+09</td>\n",
       "      <td>233333.33</td>\n",
       "      <td>0.0</td>\n",
       "      <td>1.0</td>\n",
       "      <td>0.0</td>\n",
       "      <td>1.0</td>\n",
       "      <td>0.0</td>\n",
       "      <td>1.0</td>\n",
       "    </tr>\n",
       "  </tbody>\n",
       "</table>\n",
       "</div>"
      ],
      "text/plain": [
       "   Area  Room         Price  ...  Warehouse_True  Elevator_False  Elevator_True\n",
       "0    63     1  1.850000e+09  ...             1.0             0.0            1.0\n",
       "1    60     1  1.850000e+09  ...             1.0             0.0            1.0\n",
       "2    79     2  5.500000e+08  ...             1.0             0.0            1.0\n",
       "3    95     2  9.025000e+08  ...             1.0             0.0            1.0\n",
       "4   123     2  7.000000e+09  ...             1.0             0.0            1.0\n",
       "\n",
       "[5 rows x 10 columns]"
      ]
     },
     "execution_count": 98,
     "metadata": {},
     "output_type": "execute_result"
    }
   ],
   "source": [
    "new_housing_ds_copy.drop(['Address'], axis= 1, inplace= True)\n",
    "new_housing_ds_copy.head()"
   ]
  },
  {
   "cell_type": "code",
   "execution_count": 116,
   "id": "f18f27bd-61ea-4543-9c00-13ae2f32aa36",
   "metadata": {},
   "outputs": [
    {
     "name": "stderr",
     "output_type": "stream",
     "text": [
      "C:\\Users\\ExoGame\\anaconda3\\Lib\\site-packages\\pandas\\plotting\\_matplotlib\\misc.py:121: RuntimeWarning: invalid value encountered in cast\n",
      "  if np.all(locs == locs.astype(int)):\n"
     ]
    },
    {
     "data": {
      "image/png": "[encoded data removed]",
      "text/plain": [
       "<Figure size 1000x1100 with 25 Axes>"
      ]
     },
     "metadata": {},
     "output_type": "display_data"
    }
   ],
   "source": [
    "features= ['Price', 'Area', 'Room', 'Warehouse_True', 'Warehouse_False']\n",
    "scatter_matrix(new_housing_ds_copy[features], figsize= (10, 11))\n",
    "plt.show()"
   ]
  },
  {
   "cell_type": "code",
   "execution_count": 124,
   "id": "ec2d7f52-0577-4418-b1e8-c6eae6cf04ca",
   "metadata": {},
   "outputs": [
    {
     "data": {
      "text/plain": [
       "Price              1.000000\n",
       "Price(USD)         1.000000\n",
       "Area               0.722647\n",
       "Room               0.567610\n",
       "Parking_True       0.190532\n",
       "Elevator_True      0.111861\n",
       "Warehouse_True     0.109971\n",
       "Warehouse_False   -0.109971\n",
       "Elevator_False    -0.111861\n",
       "Parking_False     -0.190532\n",
       "Name: Price, dtype: float64"
      ]
     },
     "execution_count": 124,
     "metadata": {},
     "output_type": "execute_result"
    }
   ],
   "source": [
    "corr_matrix= new_housing_ds_copy.corr()\n",
    "corr_matrix['Price'].sort_values(ascending= False)"
   ]
  },
  {
   "cell_type": "code",
   "execution_count": 128,
   "id": "00a75bd0-f066-453b-9d6a-cc176ab74813",
   "metadata": {},
   "outputs": [
    {
     "data": {
      "image/png": "[encoded data removed]",
      "text/plain": [
       "<Figure size 700x500 with 1 Axes>"
      ]
     },
     "metadata": {},
     "output_type": "display_data"
    }
   ],
   "source": [
    "plt.figure(figsize= (7, 5))\n",
    "plt.scatter(x= new_housing_ds.Area, y= new_housing_ds.Price, color= 'blue')\n",
    "plt.xlabel('Area')\n",
    "plt.ylabel('Price')\n",
    "plt.title('Price vs Area')\n",
    "plt.show()"
   ]
  },
  {
   "cell_type": "code",
   "execution_count": 134,
   "id": "0ccb28f3-c9d6-4c5f-8a7b-ad22de6dfab7",
   "metadata": {},
   "outputs": [
    {
     "data": {
      "text/plain": [
       "192"
      ]
     },
     "execution_count": 134,
     "metadata": {},
     "output_type": "execute_result"
    }
   ],
   "source": [
    "len(new_housing_ds['Address'].unique())"
   ]
  },
  {
   "cell_type": "code",
   "execution_count": 140,
   "id": "1ae157ed-31ea-45c0-a404-c3455156cd9b",
   "metadata": {},
   "outputs": [
    {
     "data": {
      "text/plain": [
       "array([  3,   4,  49, ..., 101,  13,  72])"
      ]
     },
     "execution_count": 140,
     "metadata": {},
     "output_type": "execute_result"
    }
   ],
   "source": [
    "address = np.random.randint(0, 192, 3473)\n",
    "address"
   ]
  },
  {
   "cell_type": "code",
   "execution_count": 142,
   "id": "d98ea6e6-96a0-49be-9463-29ca1b87b722",
   "metadata": {},
   "outputs": [
    {
     "data": {
      "image/png": "[encoded data removed]",
      "text/plain": [
       "<Figure size 640x480 with 1 Axes>"
      ]
     },
     "metadata": {},
     "output_type": "display_data"
    }
   ],
   "source": [
    "plt.scatter(x= address, y= new_housing_ds.Price)\n",
    "plt.show()"
   ]
  },
  {
   "cell_type": "code",
   "execution_count": 144,
   "id": "574def0c-a16b-4a57-a1ab-b1d11f3c149b",
   "metadata": {},
   "outputs": [
    {
     "data": {
      "text/plain": [
       "Room\n",
       "2    1956\n",
       "3     731\n",
       "1     673\n",
       "4      70\n",
       "5      33\n",
       "0      10\n",
       "Name: count, dtype: int64"
      ]
     },
     "execution_count": 144,
     "metadata": {},
     "output_type": "execute_result"
    }
   ],
   "source": [
    "new_housing_ds['Room'].value_counts()"
   ]
  },
  {
   "cell_type": "code",
   "execution_count": 154,
   "id": "a8419e8a-719d-4dd2-8f51-1f4d6ed93071",
   "metadata": {},
   "outputs": [
    {
     "data": {
      "image/png": "[encoded data removed]",
      "text/plain": [
       "<Figure size 700x600 with 1 Axes>"
      ]
     },
     "metadata": {},
     "output_type": "display_data"
    }
   ],
   "source": [
    "plt.figure(figsize= (7, 6))\n",
    "plt.scatter(x= new_housing_ds.Room, y= new_housing_ds.Price, color= 'blue')\n",
    "plt.xlabel('Room')\n",
    "plt.ylabel('Price')\n",
    "plt.title('Price vs Room')\n",
    "plt.show()"
   ]
  },
  {
   "cell_type": "code",
   "execution_count": 158,
   "id": "a50e1faf-3bda-4f15-ba71-cd0b5ffdd3ef",
   "metadata": {},
   "outputs": [
    {
     "name": "stdout",
     "output_type": "stream",
     "text": [
      "<class 'pandas.core.frame.DataFrame'>\n",
      "Index: 2778 entries, 1822 to 3174\n",
      "Data columns (total 11 columns):\n",
      " #   Column           Non-Null Count  Dtype  \n",
      "---  ------           --------------  -----  \n",
      " 0   Area             2778 non-null   int16  \n",
      " 1   Room             2778 non-null   int64  \n",
      " 2   Address          2778 non-null   object \n",
      " 3   Price            2778 non-null   float64\n",
      " 4   Price(USD)       2778 non-null   float64\n",
      " 5   Parking_False    2778 non-null   float64\n",
      " 6   Parking_True     2778 non-null   float64\n",
      " 7   Warehouse_False  2778 non-null   float64\n",
      " 8   Warehouse_True   2778 non-null   float64\n",
      " 9   Elevator_False   2778 non-null   float64\n",
      " 10  Elevator_True    2778 non-null   float64\n",
      "dtypes: float64(8), int16(1), int64(1), object(1)\n",
      "memory usage: 244.2+ KB\n"
     ]
    }
   ],
   "source": [
    "train_set, test_set = train_test_split(new_housing_ds, test_size= 0.2, random_state= 42)\n",
    "train_set.info()"
   ]
  },
  {
   "cell_type": "code",
   "execution_count": 160,
   "id": "a35bc171-fff1-47be-8d04-87603e2536ec",
   "metadata": {},
   "outputs": [
    {
     "name": "stdout",
     "output_type": "stream",
     "text": [
      "<class 'pandas.core.frame.DataFrame'>\n",
      "Index: 695 entries, 3000 to 568\n",
      "Data columns (total 11 columns):\n",
      " #   Column           Non-Null Count  Dtype  \n",
      "---  ------           --------------  -----  \n",
      " 0   Area             695 non-null    int16  \n",
      " 1   Room             695 non-null    int64  \n",
      " 2   Address          695 non-null    object \n",
      " 3   Price            695 non-null    float64\n",
      " 4   Price(USD)       695 non-null    float64\n",
      " 5   Parking_False    695 non-null    float64\n",
      " 6   Parking_True     695 non-null    float64\n",
      " 7   Warehouse_False  695 non-null    float64\n",
      " 8   Warehouse_True   695 non-null    float64\n",
      " 9   Elevator_False   695 non-null    float64\n",
      " 10  Elevator_True    695 non-null    float64\n",
      "dtypes: float64(8), int16(1), int64(1), object(1)\n",
      "memory usage: 61.1+ KB\n"
     ]
    }
   ],
   "source": [
    "test_set.info()"
   ]
  },
  {
   "cell_type": "code",
   "execution_count": 300,
   "id": "8f16a32c-1a26-4369-af10-81a53b09f45f",
   "metadata": {},
   "outputs": [
    {
     "name": "stdout",
     "output_type": "stream",
     "text": [
      "[[3]\n",
      " [1]\n",
      " [2]\n",
      " [3]]\n"
     ]
    }
   ],
   "source": [
    "from sklearn.preprocessing import PolynomialFeatures\n",
    "poly = PolynomialFeatures(degree= 2, include_bias= False)\n",
    "train_x = np.asanyarray(train_set[['Room']])\n",
    "train_y = np.asanyarray(train_set[['Price']])\n",
    "print(train_x[:4])"
   ]
  },
  {
   "cell_type": "code",
   "execution_count": 302,
   "id": "5df945b4-f2e5-4dba-8db4-983c400e8135",
   "metadata": {},
   "outputs": [
    {
     "name": "stdout",
     "output_type": "stream",
     "text": [
      "[[3. 9.]\n",
      " [1. 1.]\n",
      " [2. 4.]\n",
      " ...\n",
      " [2. 4.]\n",
      " [3. 9.]\n",
      " [2. 4.]]\n",
      "['x0' 'x0^2']\n"
     ]
    }
   ],
   "source": [
    "train_poly_x = poly.fit_transform(train_x)\n",
    "print(train_poly_x)\n",
    "print(poly.get_feature_names_out())"
   ]
  },
  {
   "cell_type": "code",
   "execution_count": 304,
   "id": "457bd6fb-894e-45e7-acbe-c007cc847257",
   "metadata": {},
   "outputs": [
    {
     "name": "stdout",
     "output_type": "stream",
     "text": [
      "[[-4.46792300e+09  2.24941323e+09]]\n",
      "[3.6572607e+09]\n"
     ]
    }
   ],
   "source": [
    "from sklearn.linear_model import LinearRegression\n",
    "regr = LinearRegression()\n",
    "regr.fit(train_poly_x, train_y)\n",
    "print(regr.coef_)\n",
    "print(regr.intercept_)"
   ]
  },
  {
   "cell_type": "code",
   "execution_count": 308,
   "id": "92386f6f-79c0-4387-8ff2-9f02c342670c",
   "metadata": {},
   "outputs": [
    {
     "name": "stdout",
     "output_type": "stream",
     "text": [
      "[0 1 2 3 4 5]\n"
     ]
    }
   ],
   "source": [
    "x = np.arange(0, 6)\n",
    "print(x)\n",
    "yy = regr.intercept_[0] + regr.coef_[0][0] * x + regr.coef_[0][1] * np.power(x, 2)"
   ]
  },
  {
   "cell_type": "code",
   "execution_count": 310,
   "id": "b8a37ddd-b96e-4dc4-a0fb-fdc6a8364873",
   "metadata": {},
   "outputs": [
    {
     "data": {
      "image/png": "[encoded data removed]",
      "text/plain": [
       "<Figure size 700x600 with 1 Axes>"
      ]
     },
     "metadata": {},
     "output_type": "display_data"
    }
   ],
   "source": [
    "plt.figure(figsize= (7, 6))\n",
    "plt.scatter(x= train_set.Room, y= train_set.Price, color= 'blue')\n",
    "plt.plot(x, yy, color= 'red')\n",
    "plt.xlabel('Room')\n",
    "plt.ylabel('Price')\n",
    "plt.title('Price vs Room')\n",
    "plt.show()"
   ]
  },
  {
   "cell_type": "code",
   "execution_count": 314,
   "id": "de42c0b6-19f3-4624-acef-706d8a5c18f3",
   "metadata": {},
   "outputs": [
    {
     "data": {
      "text/plain": [
       "array([[3., 9.],\n",
       "       [2., 4.],\n",
       "       [3., 9.],\n",
       "       ...,\n",
       "       [2., 4.],\n",
       "       [2., 4.],\n",
       "       [3., 9.]])"
      ]
     },
     "execution_count": 314,
     "metadata": {},
     "output_type": "execute_result"
    }
   ],
   "source": [
    "test_room = np.asanyarray(test_set[['Room']])\n",
    "test_price = np.asanyarray(test_set[['Price']])\n",
    "test_poly_room = poly.fit_transform(test_room)\n",
    "test_poly_room"
   ]
  },
  {
   "cell_type": "code",
   "execution_count": 316,
   "id": "6bbe3b6f-d309-429d-a802-428425ae7a28",
   "metadata": {},
   "outputs": [
    {
     "name": "stdout",
     "output_type": "stream",
     "text": [
      "0.42485748226374187\n"
     ]
    }
   ],
   "source": [
    "y_hat = regr.predict(test_poly_room)\n",
    "print(r2_score(test_price, y_hat))"
   ]
  },
  {
   "cell_type": "code",
   "execution_count": 318,
   "id": "ebc263b9-1ea5-4341-85eb-59afc810f6cd",
   "metadata": {},
   "outputs": [],
   "source": [
    "train_area = np.asanyarray(train_set[['Area']])\n",
    "train_price = np.asanyarray(train_set[['Price']])"
   ]
  },
  {
   "cell_type": "code",
   "execution_count": 320,
   "id": "39695420-e255-4196-b474-c018edd74535",
   "metadata": {},
   "outputs": [
    {
     "name": "stdout",
     "output_type": "stream",
     "text": [
      "[[79025528.20315935]]\n",
      "[-3.09953905e+09]\n"
     ]
    }
   ],
   "source": [
    "regr.fit(train_area, train_price)\n",
    "print(regr.coef_)\n",
    "print(regr.intercept_)"
   ]
  },
  {
   "cell_type": "code",
   "execution_count": 324,
   "id": "cb66935a-4d12-447e-aecb-444ea0cfe841",
   "metadata": {},
   "outputs": [
    {
     "name": "stdout",
     "output_type": "stream",
     "text": [
      "0.5943047927714123\n"
     ]
    }
   ],
   "source": [
    "test_area = np.asanyarray(test_set[['Area']])\n",
    "test_price = np.asanyarray(test_set[['Price']])\n",
    "y_hat = regr.predict(test_area)\n",
    "print(r2_score(test_price, y_hat))"
   ]
  },
  {
   "cell_type": "code",
   "execution_count": 322,
   "id": "5e5561fd-ad3f-4a82-b433-bf9cffbae329",
   "metadata": {},
   "outputs": [
    {
     "data": {
      "image/png": "[encoded data removed]",
      "text/plain": [
       "<Figure size 700x600 with 1 Axes>"
      ]
     },
     "metadata": {},
     "output_type": "display_data"
    }
   ],
   "source": [
    "plt.figure(figsize= (7, 6))\n",
    "plt.scatter(x= train_set.Area, y= train_set.Price, color= 'blue')\n",
    "plt.plot(train_x2, regr.intercept_[0] + regr.coef_[0][0] * train_x2, color= 'red')\n",
    "plt.xlabel('Area')\n",
    "plt.ylabel('Price')\n",
    "plt.title('Price vs Area')\n",
    "plt.show()"
   ]
  },
  {
   "cell_type": "code",
   "execution_count": 232,
   "id": "7f7e8209-cb11-4b90-9329-7f596bbf9d00",
   "metadata": {},
   "outputs": [
    {
     "data": {
      "text/plain": [
       "array([[1.0000e+00, 1.6500e+02, 2.7225e+04],\n",
       "       [1.0000e+00, 5.7000e+01, 3.2490e+03],\n",
       "       [1.0000e+00, 8.0000e+01, 6.4000e+03],\n",
       "       ...,\n",
       "       [1.0000e+00, 8.7000e+01, 7.5690e+03],\n",
       "       [1.0000e+00, 1.5500e+02, 2.4025e+04],\n",
       "       [1.0000e+00, 1.2000e+02, 1.4400e+04]])"
      ]
     },
     "execution_count": 232,
     "metadata": {},
     "output_type": "execute_result"
    }
   ],
   "source": [
    "train_poly_x2 = poly.fit_transform(train_set[['Area']])\n",
    "train_poly_x2"
   ]
  },
  {
   "cell_type": "code",
   "execution_count": 234,
   "id": "cccf46bd-7873-4504-bb63-751d4b5b7693",
   "metadata": {},
   "outputs": [
    {
     "name": "stdout",
     "output_type": "stream",
     "text": [
      "[[ 0.00000000e+00  1.29869859e+08 -9.31884948e+04]]\n",
      "[-7.0064258e+09]\n"
     ]
    }
   ],
   "source": [
    "regr.fit(train_poly_x2, train_y2)\n",
    "print(regr.coef_)\n",
    "print(regr.intercept_)"
   ]
  },
  {
   "cell_type": "code",
   "execution_count": 236,
   "id": "ad603df1-f53e-4b4c-9648-1ca820a2121a",
   "metadata": {},
   "outputs": [
    {
     "data": {
      "text/plain": [
       "count    2778.000000\n",
       "mean      107.596112\n",
       "std        72.150003\n",
       "min        32.000000\n",
       "25%        68.000000\n",
       "50%        90.000000\n",
       "75%       120.000000\n",
       "max       929.000000\n",
       "Name: Area, dtype: float64"
      ]
     },
     "execution_count": 236,
     "metadata": {},
     "output_type": "execute_result"
    }
   ],
   "source": [
    "train_set['Area'].describe()"
   ]
  },
  {
   "cell_type": "code",
   "execution_count": 240,
   "id": "64d8c572-662f-4648-babe-87a491595024",
   "metadata": {},
   "outputs": [],
   "source": [
    "area_x = np.arange(32, 930)\n",
    "yy2 = regr.intercept_[0] + regr.coef_[0][1] * area_x + regr.coef_[0][2] * np.power(area_x, 2)"
   ]
  },
  {
   "cell_type": "code",
   "execution_count": 242,
   "id": "e3bf8cb2-6b74-4e74-8293-be0b54b192f8",
   "metadata": {},
   "outputs": [
    {
     "data": {
      "image/png": "[encoded data removed]",
      "text/plain": [
       "<Figure size 700x600 with 1 Axes>"
      ]
     },
     "metadata": {},
     "output_type": "display_data"
    }
   ],
   "source": [
    "plt.figure(figsize= (7, 6))\n",
    "plt.scatter(x= train_set.Area, y= train_set.Price, color= 'blue')\n",
    "plt.plot(area_x, yy2, color= 'red')\n",
    "plt.xlabel('Area')\n",
    "plt.ylabel('Price')\n",
    "plt.title('Price vs Area')\n",
    "plt.show()"
   ]
  },
  {
   "cell_type": "code",
   "execution_count": 330,
   "id": "50730a71-2e8e-44b0-991f-f542710d726c",
   "metadata": {},
   "outputs": [
    {
     "name": "stdout",
     "output_type": "stream",
     "text": [
      "[[165   3]\n",
      " [ 57   1]\n",
      " [ 80   2]\n",
      " ...\n",
      " [ 87   2]\n",
      " [155   3]\n",
      " [120   2]]\n"
     ]
    }
   ],
   "source": [
    "train_m_x = np.asanyarray(train_set[['Area', 'Room']])\n",
    "print(train_m_x)\n",
    "train_y = np.asanyarray(train_set[['Price']])"
   ]
  },
  {
   "cell_type": "code",
   "execution_count": 332,
   "id": "9c80e152-a665-49ea-86dc-81d878b6e83a",
   "metadata": {},
   "outputs": [
    {
     "name": "stdout",
     "output_type": "stream",
     "text": [
      "[[1.6500e+02 3.0000e+00 2.7225e+04 4.9500e+02 9.0000e+00]\n",
      " [5.7000e+01 1.0000e+00 3.2490e+03 5.7000e+01 1.0000e+00]\n",
      " [8.0000e+01 2.0000e+00 6.4000e+03 1.6000e+02 4.0000e+00]\n",
      " ...\n",
      " [8.7000e+01 2.0000e+00 7.5690e+03 1.7400e+02 4.0000e+00]\n",
      " [1.5500e+02 3.0000e+00 2.4025e+04 4.6500e+02 9.0000e+00]\n",
      " [1.2000e+02 2.0000e+00 1.4400e+04 2.4000e+02 4.0000e+00]]\n",
      "['x0' 'x1' 'x0^2' 'x0 x1' 'x1^2']\n"
     ]
    }
   ],
   "source": [
    "from sklearn.preprocessing import PolynomialFeatures\n",
    "poly2 = PolynomialFeatures(degree= 2, include_bias= False)\n",
    "train_m_poly_x = poly2.fit_transform(train_m_x)\n",
    "print(train_m_poly_x)\n",
    "print(poly2.get_feature_names_out())"
   ]
  },
  {
   "cell_type": "code",
   "execution_count": 334,
   "id": "dfabbeea-f68e-4677-af83-b757c557f6b3",
   "metadata": {},
   "outputs": [
    {
     "name": "stdout",
     "output_type": "stream",
     "text": [
      "[[ 9.21814876e+07 -3.68190376e+09 -1.43400090e+05  2.23038020e+07\n",
      "   1.28783564e+08]]\n",
      "[-8.81802952e+08]\n"
     ]
    }
   ],
   "source": [
    "regr.fit(train_m_poly_x, train_y)\n",
    "print(regr.coef_)\n",
    "print(regr.intercept_)"
   ]
  },
  {
   "cell_type": "code",
   "execution_count": 336,
   "id": "33d59b0b-0675-40d9-90fd-6c32e6fa579b",
   "metadata": {},
   "outputs": [
    {
     "name": "stdout",
     "output_type": "stream",
     "text": [
      "[[145   3]\n",
      " [ 97   2]\n",
      " [125   3]\n",
      " ...\n",
      " [ 87   2]\n",
      " [ 65   2]\n",
      " [283   3]]\n"
     ]
    }
   ],
   "source": [
    "test_m_x = np.asanyarray(test_set[['Area', 'Room']])\n",
    "test_y = np.asanyarray(test_set[['Price']])\n",
    "print(test_m_x)"
   ]
  },
  {
   "cell_type": "code",
   "execution_count": 338,
   "id": "f7ad786f-b80d-4658-836b-de2b34771c35",
   "metadata": {},
   "outputs": [
    {
     "name": "stdout",
     "output_type": "stream",
     "text": [
      "[[1.4500e+02 3.0000e+00 2.1025e+04 4.3500e+02 9.0000e+00]\n",
      " [9.7000e+01 2.0000e+00 9.4090e+03 1.9400e+02 4.0000e+00]\n",
      " [1.2500e+02 3.0000e+00 1.5625e+04 3.7500e+02 9.0000e+00]\n",
      " ...\n",
      " [8.7000e+01 2.0000e+00 7.5690e+03 1.7400e+02 4.0000e+00]\n",
      " [6.5000e+01 2.0000e+00 4.2250e+03 1.3000e+02 4.0000e+00]\n",
      " [2.8300e+02 3.0000e+00 8.0089e+04 8.4900e+02 9.0000e+00]]\n"
     ]
    }
   ],
   "source": [
    "test_poly_m_x = poly2.fit_transform(test_m_x)\n",
    "print(test_poly_m_x)"
   ]
  },
  {
   "cell_type": "code",
   "execution_count": 340,
   "id": "3474e0a5-fc82-408a-8511-dc0c859bfac4",
   "metadata": {},
   "outputs": [],
   "source": [
    "y_hat = regr.predict(test_poly_m_x)"
   ]
  },
  {
   "cell_type": "code",
   "execution_count": 342,
   "id": "7bbe087a-42cb-4658-ad52-2579cbbd0c4a",
   "metadata": {},
   "outputs": [
    {
     "name": "stdout",
     "output_type": "stream",
     "text": [
      "0.6811125920429913\n"
     ]
    }
   ],
   "source": [
    "from sklearn.metrics import r2_score\n",
    "print(r2_score(test_y, y_hat))"
   ]
  },
  {
   "cell_type": "code",
   "execution_count": 350,
   "id": "592129e2-ada1-4791-a684-19c61188f3dc",
   "metadata": {},
   "outputs": [],
   "source": [
    "x0 = 100\n",
    "x1 = 2"
   ]
  },
  {
   "cell_type": "code",
   "execution_count": 352,
   "id": "3e6eb539-e217-40db-8220-6f52a6ee5da0",
   "metadata": {},
   "outputs": [],
   "source": [
    "y_predict = regr.intercept_[0] + regr.coef_[0][0] * x0 + regr.coef_[0][1] * x1 + regr.coef_[0][2] * np.power(x0, 2) + regr.coef_[0][3] * (x0 * x1) + regr.coef_[0][4] * np.power(x1, 2)"
   ]
  },
  {
   "cell_type": "code",
   "execution_count": 354,
   "id": "cf2ddce1-9cf0-47de-9648-77b0b4ad4107",
   "metadata": {},
   "outputs": [
    {
     "data": {
      "text/plain": [
       "4514432057.346543"
      ]
     },
     "execution_count": 354,
     "metadata": {},
     "output_type": "execute_result"
    }
   ],
   "source": [
    "y_predict"
   ]
  }
 ],
 "metadata": {
  "kernelspec": {
   "display_name": "Python 3 (ipykernel)",
   "language": "python",
   "name": "python3"
  },
  "language_info": {
   "codemirror_mode": {
    "name": "ipython",
    "version": 3
   },
   "file_extension": ".py",
   "mimetype": "text/x-python",
   "name": "python",
   "nbconvert_exporter": "python",
   "pygments_lexer": "ipython3",
   "version": "3.12.7"
  }
 },
 "nbformat": 4,
 "nbformat_minor": 5
}
